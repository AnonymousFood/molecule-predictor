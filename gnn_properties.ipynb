{
 "cells": [
  {
   "cell_type": "markdown",
   "metadata": {},
   "source": [
    "## Imports"
   ]
  },
  {
   "cell_type": "code",
   "execution_count": 1,
   "metadata": {},
   "outputs": [
    {
     "name": "stderr",
     "output_type": "stream",
     "text": [
      "c:\\Users\\Will\\miniforge3\\Lib\\site-packages\\tqdm\\auto.py:21: TqdmWarning: IProgress not found. Please update jupyter and ipywidgets. See https://ipywidgets.readthedocs.io/en/stable/user_install.html\n",
      "  from .autonotebook import tqdm as notebook_tqdm\n"
     ]
    }
   ],
   "source": [
    "import networkx as nx\n",
    "import numpy as np\n",
    "import torch\n",
    "import torch.nn as nn\n",
    "import torch.optim as optim\n",
    "from torch_geometric.data import Data\n",
    "from torch_geometric.nn import GCNConv, global_mean_pool\n",
    "from torch_geometric.utils import from_networkx"
   ]
  },
  {
   "cell_type": "markdown",
   "metadata": {},
   "source": [
    "## Function Definitions"
   ]
  },
  {
   "cell_type": "code",
   "execution_count": 2,
   "metadata": {},
   "outputs": [],
   "source": [
    "# 1. Generate a random graph\n",
    "def generate_graph(num_nodes=100, edge_prob=0.05):\n",
    "    G = nx.erdos_renyi_graph(n=num_nodes, p=edge_prob)\n",
    "    return G\n",
    "\n",
    "# 2. Compute graph properties\n",
    "def compute_property(G):\n",
    "    largest_cc = max(nx.connected_components(G), key=len)\n",
    "    return len(largest_cc) / G.number_of_nodes()\n",
    "\n",
    "# 3. Convert to PyTorch Geometric format\n",
    "def graph_to_pyg_data(G):\n",
    "    pyg_data = from_networkx(G)\n",
    "    return pyg_data"
   ]
  },
  {
   "cell_type": "markdown",
   "metadata": {},
   "source": [
    "## GNN Model"
   ]
  },
  {
   "cell_type": "code",
   "execution_count": 3,
   "metadata": {},
   "outputs": [],
   "source": [
    "# 4. Define a simple GNN model\n",
    "class GNNModel(nn.Module):\n",
    "    def __init__(self, input_dim, hidden_dim, output_dim):\n",
    "        super(GNNModel, self).__init__()\n",
    "        self.conv1 = GCNConv(input_dim, hidden_dim)\n",
    "        self.conv2 = GCNConv(hidden_dim, hidden_dim)\n",
    "        self.fc = nn.Linear(hidden_dim, output_dim)\n",
    "\n",
    "    def forward(self, data):\n",
    "        x, edge_index = data.x, data.edge_index\n",
    "        x = self.conv1(x, edge_index).relu()\n",
    "        x = self.conv2(x, edge_index).relu()\n",
    "        x = global_mean_pool(x, data.batch)\n",
    "        return self.fc(x)\n"
   ]
  },
  {
   "cell_type": "markdown",
   "metadata": {},
   "source": [
    "## Training Code"
   ]
  },
  {
   "cell_type": "code",
   "execution_count": 4,
   "metadata": {},
   "outputs": [],
   "source": [
    "# 5. Training loop\n",
    "def train_model(model, data, target, epochs=100, lr=0.01):\n",
    "    optimizer = optim.Adam(model.parameters(), lr=lr)\n",
    "    loss_fn = nn.MSELoss()\n",
    "    \n",
    "    for epoch in range(epochs):\n",
    "        model.train()\n",
    "        optimizer.zero_grad()\n",
    "        output = model(data)\n",
    "        loss = loss_fn(output, target)\n",
    "        loss.backward()\n",
    "        optimizer.step()\n",
    "        if epoch % 10 == 0:\n",
    "            print(f\"Epoch {epoch}, Loss: {loss.item()}\")"
   ]
  },
  {
   "cell_type": "markdown",
   "metadata": {},
   "source": [
    "## Execution"
   ]
  },
  {
   "cell_type": "code",
   "execution_count": null,
   "metadata": {},
   "outputs": [
    {
     "name": "stderr",
     "output_type": "stream",
     "text": [
      "c:\\Users\\Will\\miniforge3\\Lib\\site-packages\\torch\\nn\\modules\\loss.py:608: UserWarning: Using a target size (torch.Size([1])) that is different to the input size (torch.Size([1, 1])). This will likely lead to incorrect results due to broadcasting. Please ensure they have the same size.\n",
      "  return F.mse_loss(input, target, reduction=self.reduction)\n"
     ]
    },
    {
     "name": "stdout",
     "output_type": "stream",
     "text": [
      "Epoch 0, Loss: 1.025057077407837\n",
      "Epoch 10, Loss: 0.01572209782898426\n",
      "Epoch 20, Loss: 0.026130376383662224\n",
      "Epoch 30, Loss: 0.00020452035823836923\n",
      "Epoch 40, Loss: 5.602217711953017e-08\n",
      "Epoch 50, Loss: 0.000179736249265261\n",
      "Epoch 60, Loss: 4.3834526877617463e-05\n",
      "Epoch 70, Loss: 6.633286375290481e-06\n",
      "Epoch 80, Loss: 2.0632803625630913e-06\n",
      "Epoch 90, Loss: 9.413172847416718e-06\n"
     ]
    }
   ],
   "source": [
    "# Example Usage\n",
    "G = generate_graph()\n",
    "pyg_data = graph_to_pyg_data(G)\n",
    "pred_property = compute_property(G)\n",
    "\n",
    "# Add dummy node features\n",
    "num_nodes = G.number_of_nodes()\n",
    "pyg_data.x = torch.eye(num_nodes)\n",
    "pyg_data.batch = torch.zeros(num_nodes, dtype=torch.long)\n",
    "\n",
    "target = torch.tensor([pred_property], dtype=torch.float32).unsqueeze(1)\n",
    "\n",
    "model = GNNModel(input_dim=num_nodes, hidden_dim=32, output_dim=1)\n",
    "train_model(model, pyg_data, target)"
   ]
  }
 ],
 "metadata": {
  "kernelspec": {
   "display_name": "base",
   "language": "python",
   "name": "python3"
  },
  "language_info": {
   "codemirror_mode": {
    "name": "ipython",
    "version": 3
   },
   "file_extension": ".py",
   "mimetype": "text/x-python",
   "name": "python",
   "nbconvert_exporter": "python",
   "pygments_lexer": "ipython3",
   "version": "3.12.8"
  }
 },
 "nbformat": 4,
 "nbformat_minor": 2
}
